{
 "cells": [
  {
   "cell_type": "code",
   "execution_count": 3,
   "id": "dd72390b",
   "metadata": {},
   "outputs": [],
   "source": [
    "def besttime(prices):\n",
    "    l = 0\n",
    "    r = 1\n",
    "    res = 0\n",
    "    while r < len(prices):\n",
    "        profit = prices[r] - prices[l]\n",
    "        res = max(res, profit)\n",
    "        \n",
    "        if prices[r] < prices[l]:\n",
    "            l = r\n",
    "        r += 1\n",
    "    return res"
   ]
  },
  {
   "cell_type": "code",
   "execution_count": 4,
   "id": "a4c77fd0",
   "metadata": {},
   "outputs": [
    {
     "data": {
      "text/plain": [
       "5"
      ]
     },
     "execution_count": 4,
     "metadata": {},
     "output_type": "execute_result"
    }
   ],
   "source": [
    "besttime([7,1,5,3,6,4])"
   ]
  }
 ],
 "metadata": {
  "kernelspec": {
   "display_name": "Python 3 (ipykernel)",
   "language": "python",
   "name": "python3"
  },
  "language_info": {
   "codemirror_mode": {
    "name": "ipython",
    "version": 3
   },
   "file_extension": ".py",
   "mimetype": "text/x-python",
   "name": "python",
   "nbconvert_exporter": "python",
   "pygments_lexer": "ipython3",
   "version": "3.9.12"
  }
 },
 "nbformat": 4,
 "nbformat_minor": 5
}
