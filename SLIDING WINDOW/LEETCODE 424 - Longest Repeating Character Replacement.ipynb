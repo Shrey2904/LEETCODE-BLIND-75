{
 "cells": [
  {
   "cell_type": "code",
   "execution_count": 15,
   "id": "3f964c0a",
   "metadata": {},
   "outputs": [],
   "source": [
    "def charreplacement(s,k):\n",
    "    \n",
    "    d = {}\n",
    "    maxf = 0\n",
    "    l = 0\n",
    "    window_size = 0\n",
    "    \n",
    "    for r in range(len(s)):\n",
    "        d[s[r]] = 1 + d.get(s[r],0)\n",
    "        \n",
    "        maxf = max(maxf, d[s[r]])\n",
    "        \n",
    "        while (r-l+1) - maxf > k:\n",
    "            d[s[l]] -= 1\n",
    "            l += 1\n",
    "        window_size = max(window_size, r-l+1)\n",
    "    return window_size\n",
    "            \n",
    "    \n",
    "    \n",
    "    '''\n",
    "    d = {}\n",
    "    maxf = 0\n",
    "    window_size = 0\n",
    "    l = 0\n",
    "    \n",
    "    for r in range(len(s)):\n",
    "        \n",
    "        d[s[r]] = 1 + d.get(s[r],0)\n",
    "        \n",
    "        while (r-l+1) - max(d.values()) > k:\n",
    "            d[s[l]] -= 1\n",
    "            l += 1\n",
    "        \n",
    "        window_size = max(window_size, r-l+1)\n",
    "    return window_size\n",
    "    '''\n",
    "        \n",
    "        \n",
    "            \n",
    "            "
   ]
  },
  {
   "cell_type": "code",
   "execution_count": 17,
   "id": "86ae1d4a",
   "metadata": {},
   "outputs": [
    {
     "data": {
      "text/plain": [
       "7"
      ]
     },
     "execution_count": 17,
     "metadata": {},
     "output_type": "execute_result"
    }
   ],
   "source": [
    "charreplacement(\"AABABAB\", 3)"
   ]
  }
 ],
 "metadata": {
  "kernelspec": {
   "display_name": "Python 3 (ipykernel)",
   "language": "python",
   "name": "python3"
  },
  "language_info": {
   "codemirror_mode": {
    "name": "ipython",
    "version": 3
   },
   "file_extension": ".py",
   "mimetype": "text/x-python",
   "name": "python",
   "nbconvert_exporter": "python",
   "pygments_lexer": "ipython3",
   "version": "3.9.12"
  }
 },
 "nbformat": 4,
 "nbformat_minor": 5
}
