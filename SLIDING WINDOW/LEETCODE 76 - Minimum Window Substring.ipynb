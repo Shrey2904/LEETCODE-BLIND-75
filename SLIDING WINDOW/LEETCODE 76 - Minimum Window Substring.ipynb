{
 "cells": [
  {
   "cell_type": "code",
   "execution_count": 10,
   "id": "bef79cfd",
   "metadata": {},
   "outputs": [],
   "source": [
    "def minimumsubstring(s, t):\n",
    "\n",
    "    ds = {}\n",
    "    dt = {}\n",
    "\n",
    "    for c in t:\n",
    "        dt[c] = 1 + dt.get(c,0)\n",
    "\n",
    "    have, need = 0, len(dt)\n",
    "\n",
    "    l = 0\n",
    "    res = [-1,-1]\n",
    "    resl = float('infinity')\n",
    "\n",
    "    for r in range(len(s)):\n",
    "        c = s[r]\n",
    "        ds[c] = 1 + ds.get(c,0)\n",
    "\n",
    "        if c in dt and ds[c] == dt[c]:\n",
    "            have += 1\n",
    "\n",
    "        while have == need:\n",
    "            if (r-l+1) < resl:\n",
    "                res = [l,r]\n",
    "                resl = r-l+1\n",
    "\n",
    "            ds[s[l]] -= 1\n",
    "            if s[l] in dt and ds[s[l]] < dt[s[l]]:\n",
    "                have -= 1\n",
    "            l += 1\n",
    "    l,r = res\n",
    "    return(s[l:r+1])"
   ]
  },
  {
   "cell_type": "code",
   "execution_count": 11,
   "id": "50c034d5",
   "metadata": {},
   "outputs": [
    {
     "data": {
      "text/plain": [
       "'BANC'"
      ]
     },
     "execution_count": 11,
     "metadata": {},
     "output_type": "execute_result"
    }
   ],
   "source": [
    "minimumsubstring(\"ADOBECODEBANC\", \"ABC\")"
   ]
  }
 ],
 "metadata": {
  "kernelspec": {
   "display_name": "Python 3 (ipykernel)",
   "language": "python",
   "name": "python3"
  },
  "language_info": {
   "codemirror_mode": {
    "name": "ipython",
    "version": 3
   },
   "file_extension": ".py",
   "mimetype": "text/x-python",
   "name": "python",
   "nbconvert_exporter": "python",
   "pygments_lexer": "ipython3",
   "version": "3.9.12"
  }
 },
 "nbformat": 4,
 "nbformat_minor": 5
}
