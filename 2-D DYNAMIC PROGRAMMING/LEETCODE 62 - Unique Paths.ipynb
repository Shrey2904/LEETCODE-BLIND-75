{
 "cells": [
  {
   "cell_type": "code",
   "execution_count": 29,
   "id": "746cc33a",
   "metadata": {},
   "outputs": [],
   "source": [
    "def uniquepaths(n,m):\n",
    "    grid = [[0] * (n+1)] * (m+1)\n",
    "    grid[m-1][n-1] = 1\n",
    "    for r in range(m-1,-1,-1):\n",
    "        for c in range(n-2,-1,-1):\n",
    "            grid[r][c] = grid[r+1][c] + grid[r][c+1]\n",
    "    return grid[0][0]"
   ]
  },
  {
   "cell_type": "code",
   "execution_count": 30,
   "id": "04ba5af7",
   "metadata": {},
   "outputs": [
    {
     "data": {
      "text/plain": [
       "28"
      ]
     },
     "execution_count": 30,
     "metadata": {},
     "output_type": "execute_result"
    }
   ],
   "source": [
    "uniquepaths(3,7)"
   ]
  }
 ],
 "metadata": {
  "kernelspec": {
   "display_name": "Python 3 (ipykernel)",
   "language": "python",
   "name": "python3"
  },
  "language_info": {
   "codemirror_mode": {
    "name": "ipython",
    "version": 3
   },
   "file_extension": ".py",
   "mimetype": "text/x-python",
   "name": "python",
   "nbconvert_exporter": "python",
   "pygments_lexer": "ipython3",
   "version": "3.9.12"
  }
 },
 "nbformat": 4,
 "nbformat_minor": 5
}
