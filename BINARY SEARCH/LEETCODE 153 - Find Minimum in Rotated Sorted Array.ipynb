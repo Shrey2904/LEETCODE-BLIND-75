{
 "cells": [
  {
   "cell_type": "markdown",
   "id": "af483e6f",
   "metadata": {},
   "source": [
    "### USING BINARY SEARCH "
   ]
  },
  {
   "cell_type": "code",
   "execution_count": 2,
   "id": "65451df2",
   "metadata": {},
   "outputs": [],
   "source": [
    "def findmin1(nums):\n",
    "    \n",
    "    res = nums[0]\n",
    "    l = 0\n",
    "    r = len(nums)-1\n",
    "    \n",
    "    while l<=r:\n",
    "        \n",
    "        if nums[l] <= nums[r]:\n",
    "            res = min(nums[l], res)\n",
    "            break\n",
    "        \n",
    "        m  = (l+r)//2\n",
    "        res = min(res, nums[m])\n",
    "        \n",
    "        if nums[m] >= nums[l]:\n",
    "            \n",
    "            l = m+1\n",
    "        else:\n",
    "            \n",
    "            r = m-1\n",
    "        \n",
    "        \n",
    "    return res    \n",
    "        "
   ]
  },
  {
   "cell_type": "code",
   "execution_count": 3,
   "id": "d4f90a93",
   "metadata": {},
   "outputs": [
    {
     "data": {
      "text/plain": [
       "1"
      ]
     },
     "execution_count": 3,
     "metadata": {},
     "output_type": "execute_result"
    }
   ],
   "source": [
    "findmin1([1,2,3,4,5])"
   ]
  },
  {
   "cell_type": "code",
   "execution_count": 4,
   "id": "340d1530",
   "metadata": {},
   "outputs": [
    {
     "data": {
      "text/plain": [
       "1"
      ]
     },
     "execution_count": 4,
     "metadata": {},
     "output_type": "execute_result"
    }
   ],
   "source": [
    "findmin1([4,5,1,2,3])"
   ]
  },
  {
   "cell_type": "code",
   "execution_count": 5,
   "id": "69d1507f",
   "metadata": {},
   "outputs": [
    {
     "data": {
      "text/plain": [
       "1"
      ]
     },
     "execution_count": 5,
     "metadata": {},
     "output_type": "execute_result"
    }
   ],
   "source": [
    "findmin1([3,4,5,1,2])"
   ]
  },
  {
   "cell_type": "code",
   "execution_count": 6,
   "id": "b156502d",
   "metadata": {},
   "outputs": [
    {
     "data": {
      "text/plain": [
       "1"
      ]
     },
     "execution_count": 6,
     "metadata": {},
     "output_type": "execute_result"
    }
   ],
   "source": [
    "findmin1([2,3,4,5,1])"
   ]
  },
  {
   "cell_type": "code",
   "execution_count": 7,
   "id": "c87e04c4",
   "metadata": {},
   "outputs": [
    {
     "data": {
      "text/plain": [
       "1"
      ]
     },
     "execution_count": 7,
     "metadata": {},
     "output_type": "execute_result"
    }
   ],
   "source": [
    "findmin1([5,1,2,3,4])"
   ]
  },
  {
   "cell_type": "markdown",
   "id": "0bd22c53",
   "metadata": {},
   "source": [
    "### USING MIN-HEAP "
   ]
  },
  {
   "cell_type": "code",
   "execution_count": 14,
   "id": "0f41e75e",
   "metadata": {},
   "outputs": [],
   "source": [
    "def findmin2(nums):\n",
    "    \n",
    "    import heapq\n",
    "    \n",
    "    heapq.heapify(nums)\n",
    "    return heapq.heappop(nums)"
   ]
  },
  {
   "cell_type": "code",
   "execution_count": 15,
   "id": "e68b38e0",
   "metadata": {},
   "outputs": [
    {
     "data": {
      "text/plain": [
       "1"
      ]
     },
     "execution_count": 15,
     "metadata": {},
     "output_type": "execute_result"
    }
   ],
   "source": [
    "findmin2([1,2,3,4,5])"
   ]
  },
  {
   "cell_type": "code",
   "execution_count": 16,
   "id": "b3e72a9a",
   "metadata": {},
   "outputs": [
    {
     "data": {
      "text/plain": [
       "1"
      ]
     },
     "execution_count": 16,
     "metadata": {},
     "output_type": "execute_result"
    }
   ],
   "source": [
    "findmin2([5,1,2,3,4])"
   ]
  },
  {
   "cell_type": "code",
   "execution_count": 17,
   "id": "01c88ffb",
   "metadata": {},
   "outputs": [
    {
     "data": {
      "text/plain": [
       "1"
      ]
     },
     "execution_count": 17,
     "metadata": {},
     "output_type": "execute_result"
    }
   ],
   "source": [
    "findmin2([3,4,5,1,2])"
   ]
  }
 ],
 "metadata": {
  "kernelspec": {
   "display_name": "Python 3 (ipykernel)",
   "language": "python",
   "name": "python3"
  },
  "language_info": {
   "codemirror_mode": {
    "name": "ipython",
    "version": 3
   },
   "file_extension": ".py",
   "mimetype": "text/x-python",
   "name": "python",
   "nbconvert_exporter": "python",
   "pygments_lexer": "ipython3",
   "version": "3.9.12"
  }
 },
 "nbformat": 4,
 "nbformat_minor": 5
}
