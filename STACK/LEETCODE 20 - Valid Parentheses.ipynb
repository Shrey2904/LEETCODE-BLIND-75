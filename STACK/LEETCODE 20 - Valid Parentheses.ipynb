{
 "cells": [
  {
   "cell_type": "code",
   "execution_count": 9,
   "id": "e017e2ac",
   "metadata": {},
   "outputs": [],
   "source": [
    "def validparentheses(s):\n",
    "    \n",
    "    d = {'}' : '{',\n",
    "        ')' : '(',\n",
    "        ']' : '['}\n",
    "    \n",
    "    stack = []\n",
    "    \n",
    "    for b in s:\n",
    "        if b in d:\n",
    "            if stack and stack[-1] == d[b]:\n",
    "                stack.pop()\n",
    "            else:\n",
    "                return False\n",
    "        else:\n",
    "            stack.append(b)\n",
    "    if len(stack) == 0:\n",
    "        return True\n",
    "    else:\n",
    "        return False        "
   ]
  },
  {
   "cell_type": "code",
   "execution_count": 10,
   "id": "e98f90b4",
   "metadata": {},
   "outputs": [
    {
     "data": {
      "text/plain": [
       "True"
      ]
     },
     "execution_count": 10,
     "metadata": {},
     "output_type": "execute_result"
    }
   ],
   "source": [
    "validparentheses(\"()[]{}\")"
   ]
  },
  {
   "cell_type": "code",
   "execution_count": 11,
   "id": "854179f2",
   "metadata": {},
   "outputs": [
    {
     "data": {
      "text/plain": [
       "False"
      ]
     },
     "execution_count": 11,
     "metadata": {},
     "output_type": "execute_result"
    }
   ],
   "source": [
    "validparentheses(\"(]\")"
   ]
  }
 ],
 "metadata": {
  "kernelspec": {
   "display_name": "Python 3 (ipykernel)",
   "language": "python",
   "name": "python3"
  },
  "language_info": {
   "codemirror_mode": {
    "name": "ipython",
    "version": 3
   },
   "file_extension": ".py",
   "mimetype": "text/x-python",
   "name": "python",
   "nbconvert_exporter": "python",
   "pygments_lexer": "ipython3",
   "version": "3.9.12"
  }
 },
 "nbformat": 4,
 "nbformat_minor": 5
}
