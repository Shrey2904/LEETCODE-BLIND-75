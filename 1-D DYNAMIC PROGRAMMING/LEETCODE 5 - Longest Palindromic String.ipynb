{
 "cells": [
  {
   "cell_type": "markdown",
   "id": "417b9b83",
   "metadata": {},
   "source": [
    "# USING TWO POINTER"
   ]
  },
  {
   "cell_type": "code",
   "execution_count": 2,
   "id": "74ebb6ac",
   "metadata": {},
   "outputs": [],
   "source": [
    "def longestPalindrome(s):\n",
    "\n",
    "    res = \"\"\n",
    "    resl = 0\n",
    "    le = len(s)\n",
    "    for i in range(le):\n",
    "        #FOR ODD STRING LENGTH\n",
    "\n",
    "        l , r = i , i\n",
    "\n",
    "        while l>=0 and r < le and s[l] == s[r]:\n",
    "            if (r - l + 1) > resl:\n",
    "\n",
    "                res = s[l:r+1]\n",
    "                resl = r - l + 1\n",
    "            l -= 1\n",
    "            r += 1\n",
    "\n",
    "\n",
    "        #FOR EVEN STRING\n",
    "\n",
    "        l , r = i , i+1\n",
    "\n",
    "        while l >= 0 and r < le and s[l] == s[r]:\n",
    "            if (r - l + 1) > resl:\n",
    "\n",
    "                res = s[l:r+1]\n",
    "                resl = r - l + 1\n",
    "            l -= 1\n",
    "            r += 1\n",
    "    return(res)"
   ]
  },
  {
   "cell_type": "code",
   "execution_count": 3,
   "id": "e0ad0250",
   "metadata": {},
   "outputs": [
    {
     "data": {
      "text/plain": [
       "'bab'"
      ]
     },
     "execution_count": 3,
     "metadata": {},
     "output_type": "execute_result"
    }
   ],
   "source": [
    "longestPalindrome('babad')"
   ]
  },
  {
   "cell_type": "code",
   "execution_count": 14,
   "id": "9f743ed3",
   "metadata": {},
   "outputs": [
    {
     "data": {
      "text/plain": [
       "'bb'"
      ]
     },
     "execution_count": 14,
     "metadata": {},
     "output_type": "execute_result"
    }
   ],
   "source": [
    "longestPalindrome('abbc')"
   ]
  }
 ],
 "metadata": {
  "kernelspec": {
   "display_name": "Python 3 (ipykernel)",
   "language": "python",
   "name": "python3"
  },
  "language_info": {
   "codemirror_mode": {
    "name": "ipython",
    "version": 3
   },
   "file_extension": ".py",
   "mimetype": "text/x-python",
   "name": "python",
   "nbconvert_exporter": "python",
   "pygments_lexer": "ipython3",
   "version": "3.9.12"
  }
 },
 "nbformat": 4,
 "nbformat_minor": 5
}
