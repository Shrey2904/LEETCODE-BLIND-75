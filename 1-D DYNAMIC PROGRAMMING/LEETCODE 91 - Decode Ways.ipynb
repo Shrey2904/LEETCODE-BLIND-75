{
 "cells": [
  {
   "cell_type": "code",
   "execution_count": 7,
   "id": "5ff3df79",
   "metadata": {},
   "outputs": [],
   "source": [
    "s = \"12\"\n",
    "\n",
    "res = []\n",
    "le = len(s)\n",
    "\n",
    "for i in range(le):\n",
    "    l,r = i,i\n",
    "    while r < le and s[l] == s[r] and (int(s[l]) <= 26) and (int(s[r]) <= 26) and s[l]\n",
    "    "
   ]
  },
  {
   "cell_type": "code",
   "execution_count": 15,
   "id": "31636975",
   "metadata": {},
   "outputs": [
    {
     "data": {
      "text/plain": [
       "True"
      ]
     },
     "execution_count": 15,
     "metadata": {},
     "output_type": "execute_result"
    }
   ],
   "source": [
    "s= '12'\n",
    "len(s) < 10"
   ]
  },
  {
   "cell_type": "code",
   "execution_count": null,
   "id": "015efb34",
   "metadata": {},
   "outputs": [],
   "source": []
  }
 ],
 "metadata": {
  "kernelspec": {
   "display_name": "Python 3 (ipykernel)",
   "language": "python",
   "name": "python3"
  },
  "language_info": {
   "codemirror_mode": {
    "name": "ipython",
    "version": 3
   },
   "file_extension": ".py",
   "mimetype": "text/x-python",
   "name": "python",
   "nbconvert_exporter": "python",
   "pygments_lexer": "ipython3",
   "version": "3.9.12"
  }
 },
 "nbformat": 4,
 "nbformat_minor": 5
}
