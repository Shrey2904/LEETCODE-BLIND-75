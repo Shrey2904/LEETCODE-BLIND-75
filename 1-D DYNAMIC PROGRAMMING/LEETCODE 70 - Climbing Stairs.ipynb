{
 "cells": [
  {
   "cell_type": "markdown",
   "id": "f9d30962",
   "metadata": {},
   "source": [
    "# Problem Statement\n",
    "\n",
    "You are climbing a staircase. It takes n steps to reach the top.\n",
    "\n",
    "Each time you can either climb 1 or 2 steps. In how many distinct ways can you climb to the top?"
   ]
  },
  {
   "cell_type": "markdown",
   "id": "cc5f7f2d",
   "metadata": {},
   "source": [
    "# USING TABULATION"
   ]
  },
  {
   "cell_type": "code",
   "execution_count": 3,
   "id": "745d1b1b",
   "metadata": {},
   "outputs": [
    {
     "data": {
      "text/plain": [
       "8"
      ]
     },
     "execution_count": 3,
     "metadata": {},
     "output_type": "execute_result"
    }
   ],
   "source": [
    "def climbStairs(n):\n",
    "    \"\"\"\n",
    "    :type n: int\n",
    "    :rtype: int\n",
    "    \"\"\"\n",
    "\n",
    "    if n == 1:\n",
    "        return 1\n",
    "\n",
    "    res = [0] * n \n",
    "\n",
    "    res[0] = 1\n",
    "    res[1] = 2\n",
    "\n",
    "    for i in range(2,n):\n",
    "        res[i] = res[i-1] + res[i-2]\n",
    "    return res[-1]\n",
    "\n",
    "climbStairs(5)\n"
   ]
  },
  {
   "cell_type": "markdown",
   "id": "2a947aff",
   "metadata": {},
   "source": [
    "# USING DYNAMIC PROGRAMMING - MEMOIZATION"
   ]
  },
  {
   "cell_type": "code",
   "execution_count": 6,
   "id": "4e840bee",
   "metadata": {},
   "outputs": [
    {
     "data": {
      "text/plain": [
       "13"
      ]
     },
     "execution_count": 6,
     "metadata": {},
     "output_type": "execute_result"
    }
   ],
   "source": [
    "def climbStairs(n):\n",
    "    \"\"\"\n",
    "    :type n: int\n",
    "    :rtype: int\n",
    "    \"\"\"\n",
    "    \n",
    "    memo = {}\n",
    "    memo[1] = 1\n",
    "    memo[2] = 2\n",
    "    \n",
    "    def climb(n):\n",
    "        if n in memo:\n",
    "            return memo[n]\n",
    "        memo[n] = climb(n-1) + climb(n-2)\n",
    "        return memo[n]\n",
    "    return climb(n)\n",
    "\n",
    "\n",
    "\n",
    "climbStairs(6)"
   ]
  }
 ],
 "metadata": {
  "kernelspec": {
   "display_name": "Python 3 (ipykernel)",
   "language": "python",
   "name": "python3"
  },
  "language_info": {
   "codemirror_mode": {
    "name": "ipython",
    "version": 3
   },
   "file_extension": ".py",
   "mimetype": "text/x-python",
   "name": "python",
   "nbconvert_exporter": "python",
   "pygments_lexer": "ipython3",
   "version": "3.9.12"
  }
 },
 "nbformat": 4,
 "nbformat_minor": 5
}
