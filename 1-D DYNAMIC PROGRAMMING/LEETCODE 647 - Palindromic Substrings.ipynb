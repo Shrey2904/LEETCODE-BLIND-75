{
 "cells": [
  {
   "cell_type": "markdown",
   "id": "912c98a1",
   "metadata": {},
   "source": [
    "# Using Two pointer"
   ]
  },
  {
   "cell_type": "code",
   "execution_count": 12,
   "id": "06bf0c5f",
   "metadata": {},
   "outputs": [],
   "source": [
    "def palindromicSubstring(s):\n",
    "    res = []\n",
    "    le = len(s)\n",
    "\n",
    "    for i in range(le):\n",
    "        l,r = i,i\n",
    "        while l >= 0 and r<le and s[l] == s[r]:\n",
    "            res.append(s[l:r+1])\n",
    "            l -= 1\n",
    "            r += 1\n",
    "\n",
    "        l,r = i,i+1\n",
    "        while l>= 0 and r<le and s[l] == s[r]:\n",
    "            res.append(s[l:r+1])\n",
    "            l-=1\n",
    "            r+=1\n",
    "    return(len(res), res)"
   ]
  },
  {
   "cell_type": "code",
   "execution_count": 13,
   "id": "3f9996e2",
   "metadata": {},
   "outputs": [
    {
     "data": {
      "text/plain": [
       "(3, ['a', 'b', 'c'])"
      ]
     },
     "execution_count": 13,
     "metadata": {},
     "output_type": "execute_result"
    }
   ],
   "source": [
    "palindromicSubstring('abc')"
   ]
  },
  {
   "cell_type": "code",
   "execution_count": 14,
   "id": "79c98cbd",
   "metadata": {},
   "outputs": [
    {
     "data": {
      "text/plain": [
       "(6, ['a', 'aa', 'a', 'aaa', 'aa', 'a'])"
      ]
     },
     "execution_count": 14,
     "metadata": {},
     "output_type": "execute_result"
    }
   ],
   "source": [
    "palindromicSubstring('aaa')"
   ]
  },
  {
   "cell_type": "markdown",
   "id": "6ad62243",
   "metadata": {},
   "source": [
    "### WE ONLY NEED THE TOTAL NUMBER OF PALINDROMIC SUBSTRINGS BUT FOR THE REFERENCE I AM ALSO RETURNING THE VALUES OF THE PALINDROMIC SUBSTRINGS"
   ]
  }
 ],
 "metadata": {
  "kernelspec": {
   "display_name": "Python 3 (ipykernel)",
   "language": "python",
   "name": "python3"
  },
  "language_info": {
   "codemirror_mode": {
    "name": "ipython",
    "version": 3
   },
   "file_extension": ".py",
   "mimetype": "text/x-python",
   "name": "python",
   "nbconvert_exporter": "python",
   "pygments_lexer": "ipython3",
   "version": "3.9.12"
  }
 },
 "nbformat": 4,
 "nbformat_minor": 5
}
