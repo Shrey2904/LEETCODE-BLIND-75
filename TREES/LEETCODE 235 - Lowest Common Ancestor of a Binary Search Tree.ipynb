{
 "cells": [
  {
   "cell_type": "code",
   "execution_count": 2,
   "id": "ee00289b",
   "metadata": {},
   "outputs": [],
   "source": [
    "class TreeNode:\n",
    "    \n",
    "    def __init__(self, val = 0, left = None, right = None):\n",
    "        self.val = val\n",
    "        self.left = left\n",
    "        self.right = right"
   ]
  },
  {
   "cell_type": "code",
   "execution_count": 3,
   "id": "c8eaff9f",
   "metadata": {},
   "outputs": [],
   "source": [
    "class Solution:\n",
    "    \n",
    "    def lowestcommon(self, root, p, q):\n",
    "        \n",
    "        while root:\n",
    "            \n",
    "            if p.val < root.val and q.val < root.val:\n",
    "                \n",
    "                root = root.left\n",
    "            \n",
    "            if p.val > root.val and q.val > root.val:\n",
    "                \n",
    "                root = root.right\n",
    "            \n",
    "            else:\n",
    "                \n",
    "                return root"
   ]
  },
  {
   "cell_type": "code",
   "execution_count": 5,
   "id": "8c116c48",
   "metadata": {},
   "outputs": [
    {
     "data": {
      "text/html": [
       "<img src=\"https://assets.leetcode.com/uploads/2018/12/14/binarysearchtree_improved.png\"/>"
      ],
      "text/plain": [
       "<IPython.core.display.Image object>"
      ]
     },
     "execution_count": 5,
     "metadata": {},
     "output_type": "execute_result"
    }
   ],
   "source": [
    "from IPython.display import Image\n",
    "\n",
    "Image(url = 'https://assets.leetcode.com/uploads/2018/12/14/binarysearchtree_improved.png')"
   ]
  },
  {
   "cell_type": "markdown",
   "id": "2e44f535",
   "metadata": {},
   "source": [
    "### Input: root = [6,2,8,0,4,7,9,null,null,3,5], p = 2, q = 8\n",
    "\n",
    "\n",
    "Output: 6  "
   ]
  },
  {
   "cell_type": "markdown",
   "id": "71dce9ee",
   "metadata": {},
   "source": [
    "###  Input: root = [6,2,8,0,4,7,9,null,null,3,5], p = 2, q = 4\n",
    "\n",
    "\n",
    "Output: 2 "
   ]
  }
 ],
 "metadata": {
  "kernelspec": {
   "display_name": "Python 3 (ipykernel)",
   "language": "python",
   "name": "python3"
  },
  "language_info": {
   "codemirror_mode": {
    "name": "ipython",
    "version": 3
   },
   "file_extension": ".py",
   "mimetype": "text/x-python",
   "name": "python",
   "nbconvert_exporter": "python",
   "pygments_lexer": "ipython3",
   "version": "3.9.12"
  }
 },
 "nbformat": 4,
 "nbformat_minor": 5
}
