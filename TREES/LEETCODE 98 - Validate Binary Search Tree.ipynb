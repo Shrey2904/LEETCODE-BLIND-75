{
 "cells": [
  {
   "cell_type": "code",
   "execution_count": 1,
   "id": "fd411402",
   "metadata": {},
   "outputs": [],
   "source": [
    "class TreeNode:\n",
    "    \n",
    "    def __init__(self, val = 0, left = None, right = None):\n",
    "        self.val = val\n",
    "        self.left = left\n",
    "        self.right = right"
   ]
  },
  {
   "cell_type": "code",
   "execution_count": 4,
   "id": "b990dc04",
   "metadata": {},
   "outputs": [],
   "source": [
    "class Solution:\n",
    "    \n",
    "    def isValidbst(self, root):\n",
    "        \n",
    "        def helper(node, left, right):\n",
    "            \n",
    "            if not node:\n",
    "                return True\n",
    "            \n",
    "            if not (node.val > left and node.val < right):\n",
    "                return False\n",
    "            \n",
    "            return (helper(node.left, left, node.val) and helper(node.right, node.val, right))\n",
    "    \n",
    "        return helper(root, float('-inf'), float('inf'))"
   ]
  },
  {
   "cell_type": "code",
   "execution_count": 6,
   "id": "d88b89ce",
   "metadata": {},
   "outputs": [
    {
     "data": {
      "text/html": [
       "<img src=\"https://assets.leetcode.com/uploads/2020/12/01/tree1.jpg\"/>"
      ],
      "text/plain": [
       "<IPython.core.display.Image object>"
      ]
     },
     "execution_count": 6,
     "metadata": {},
     "output_type": "execute_result"
    }
   ],
   "source": [
    "from IPython.display import Image\n",
    "Image(url ='https://assets.leetcode.com/uploads/2020/12/01/tree1.jpg')"
   ]
  },
  {
   "cell_type": "code",
   "execution_count": 7,
   "id": "7c9ef36d",
   "metadata": {},
   "outputs": [],
   "source": [
    "root = TreeNode(2)\n",
    "root.left = TreeNode(1)\n",
    "root.right = TreeNode(3)"
   ]
  },
  {
   "cell_type": "code",
   "execution_count": 8,
   "id": "e903c386",
   "metadata": {},
   "outputs": [
    {
     "data": {
      "text/plain": [
       "True"
      ]
     },
     "execution_count": 8,
     "metadata": {},
     "output_type": "execute_result"
    }
   ],
   "source": [
    "solution = Solution()\n",
    "solution.isValidbst(root)"
   ]
  },
  {
   "cell_type": "code",
   "execution_count": 9,
   "id": "62f83e78",
   "metadata": {},
   "outputs": [
    {
     "data": {
      "text/html": [
       "<img src=\"https://assets.leetcode.com/uploads/2020/12/01/tree2.jpg\"/>"
      ],
      "text/plain": [
       "<IPython.core.display.Image object>"
      ]
     },
     "execution_count": 9,
     "metadata": {},
     "output_type": "execute_result"
    }
   ],
   "source": [
    "Image(url = 'https://assets.leetcode.com/uploads/2020/12/01/tree2.jpg')"
   ]
  },
  {
   "cell_type": "code",
   "execution_count": 10,
   "id": "ac9b9c0d",
   "metadata": {},
   "outputs": [],
   "source": [
    "root = TreeNode(5)\n",
    "root.left = TreeNode(1)\n",
    "root.right = TreeNode(4)\n",
    "root.right.left = TreeNode(3)\n",
    "root.right.right = TreeNode(6)"
   ]
  },
  {
   "cell_type": "code",
   "execution_count": 11,
   "id": "1fb48e75",
   "metadata": {},
   "outputs": [
    {
     "data": {
      "text/plain": [
       "False"
      ]
     },
     "execution_count": 11,
     "metadata": {},
     "output_type": "execute_result"
    }
   ],
   "source": [
    "solution.isValidbst(root)"
   ]
  }
 ],
 "metadata": {
  "kernelspec": {
   "display_name": "Python 3 (ipykernel)",
   "language": "python",
   "name": "python3"
  },
  "language_info": {
   "codemirror_mode": {
    "name": "ipython",
    "version": 3
   },
   "file_extension": ".py",
   "mimetype": "text/x-python",
   "name": "python",
   "nbconvert_exporter": "python",
   "pygments_lexer": "ipython3",
   "version": "3.9.12"
  }
 },
 "nbformat": 4,
 "nbformat_minor": 5
}
