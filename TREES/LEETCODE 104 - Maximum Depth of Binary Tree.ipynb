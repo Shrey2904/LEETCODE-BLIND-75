{
 "cells": [
  {
   "cell_type": "code",
   "execution_count": 1,
   "id": "53e9403d",
   "metadata": {},
   "outputs": [],
   "source": [
    "class TreeNode:\n",
    "    \n",
    "    def __init__(self, val = 0, left = None, right = None):\n",
    "        self.val = val\n",
    "        self.left = left\n",
    "        self.right = right\n",
    "\n",
    "class Solution:\n",
    "    \n",
    "    def maxDepth(self, root):\n",
    "        \n",
    "        if not root:\n",
    "            return 0\n",
    "        \n",
    "        return 1 + max(self.maxDepth(root.left), self.maxDepth(root.right))"
   ]
  },
  {
   "cell_type": "code",
   "execution_count": 12,
   "id": "9f684676",
   "metadata": {},
   "outputs": [],
   "source": [
    "tree = TreeNode(3)\n",
    "tree.left = TreeNode(9)\n",
    "tree.right = TreeNode(20)\n",
    "tree.right.left = TreeNode(15)\n",
    "tree.right.right = TreeNode(7)"
   ]
  },
  {
   "cell_type": "markdown",
   "id": "48ad6461",
   "metadata": {},
   "source": [
    "### root = [3,9,20,null,null,15,7]"
   ]
  },
  {
   "cell_type": "code",
   "execution_count": 11,
   "id": "8de401d0",
   "metadata": {},
   "outputs": [
    {
     "name": "stdout",
     "output_type": "stream",
     "text": [
      "3\n"
     ]
    }
   ],
   "source": [
    "solution = Solution()\n",
    "\n",
    "print(solution.maxDepth(tree))"
   ]
  }
 ],
 "metadata": {
  "kernelspec": {
   "display_name": "Python 3 (ipykernel)",
   "language": "python",
   "name": "python3"
  },
  "language_info": {
   "codemirror_mode": {
    "name": "ipython",
    "version": 3
   },
   "file_extension": ".py",
   "mimetype": "text/x-python",
   "name": "python",
   "nbconvert_exporter": "python",
   "pygments_lexer": "ipython3",
   "version": "3.9.12"
  }
 },
 "nbformat": 4,
 "nbformat_minor": 5
}
