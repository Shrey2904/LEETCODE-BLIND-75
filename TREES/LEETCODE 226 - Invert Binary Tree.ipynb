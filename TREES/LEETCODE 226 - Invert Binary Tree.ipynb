{
 "cells": [
  {
   "cell_type": "code",
   "execution_count": 29,
   "id": "555a960b",
   "metadata": {},
   "outputs": [],
   "source": [
    "def invertTree(self, root):\n",
    "    if not root:\n",
    "        return None\n",
    "    \n",
    "    tmp = root.left\n",
    "    root.left = root.right\n",
    "    root.right = tmp\n",
    "    \n",
    "    self.invertTree(root.left)\n",
    "    self.invertTree(root.right)\n",
    "    \n",
    "    return root"
   ]
  },
  {
   "cell_type": "markdown",
   "id": "e0495275",
   "metadata": {},
   "source": [
    "### \n",
    "Input: root = [4,2,7,1,3,6,9]\n",
    "\n",
    "\n",
    "Output: [4,7,2,9,6,3,1]\n",
    " "
   ]
  }
 ],
 "metadata": {
  "kernelspec": {
   "display_name": "Python 3 (ipykernel)",
   "language": "python",
   "name": "python3"
  },
  "language_info": {
   "codemirror_mode": {
    "name": "ipython",
    "version": 3
   },
   "file_extension": ".py",
   "mimetype": "text/x-python",
   "name": "python",
   "nbconvert_exporter": "python",
   "pygments_lexer": "ipython3",
   "version": "3.9.12"
  }
 },
 "nbformat": 4,
 "nbformat_minor": 5
}
