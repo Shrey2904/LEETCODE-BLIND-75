{
 "cells": [
  {
   "cell_type": "code",
   "execution_count": 41,
   "id": "cf95431a",
   "metadata": {},
   "outputs": [],
   "source": [
    "class TreeNode:\n",
    "    def __init__(self, val = 0, left = None, right = None):\n",
    "        self.val = val\n",
    "        self.left = left\n",
    "        self.right = right\n",
    "       "
   ]
  },
  {
   "cell_type": "code",
   "execution_count": 52,
   "id": "10d55946",
   "metadata": {},
   "outputs": [],
   "source": [
    "class Solution:\n",
    "    \n",
    "    def issubtree(self, p, q):\n",
    "        \n",
    "        if not q:\n",
    "            return True\n",
    "        if not p:\n",
    "            return False\n",
    "        \n",
    "        if self.sametree(p,q):\n",
    "            return True\n",
    "        \n",
    "        return (self.issubtree(p.left, q) or self.issubtree(p.right, q))\n",
    "    \n",
    "    def sametree(self, p, q):\n",
    "        \n",
    "        if not p and not q:\n",
    "            return True\n",
    "        if not p or not q:\n",
    "            return False\n",
    "        \n",
    "        if p.val != q.val:\n",
    "            return False\n",
    "        \n",
    "        return (self.sametree(p.left, q.left) and self.sametree(p.right, q.right))"
   ]
  },
  {
   "cell_type": "code",
   "execution_count": 53,
   "id": "a88caf7a",
   "metadata": {},
   "outputs": [
    {
     "data": {
      "text/plain": [
       "True"
      ]
     },
     "execution_count": 53,
     "metadata": {},
     "output_type": "execute_result"
    }
   ],
   "source": [
    "solution = Solution()\n",
    "\n",
    "p = TreeNode(3)\n",
    "p.left = TreeNode(4)\n",
    "p.right = TreeNode(5)\n",
    "p.left.left = TreeNode(1)\n",
    "p.left.right = TreeNode(2)\n",
    "\n",
    "q = TreeNode(4)\n",
    "q.left = TreeNode(1)\n",
    "q.right = TreeNode(2)\n",
    "solution.issubtree(p,q)"
   ]
  },
  {
   "cell_type": "markdown",
   "id": "291a47d0",
   "metadata": {},
   "source": [
    "### root = [3,4,5,1,2], subRoot = [4,1,2]"
   ]
  },
  {
   "cell_type": "code",
   "execution_count": 54,
   "id": "d00fe253",
   "metadata": {},
   "outputs": [
    {
     "data": {
      "text/plain": [
       "False"
      ]
     },
     "execution_count": 54,
     "metadata": {},
     "output_type": "execute_result"
    }
   ],
   "source": [
    "solution = Solution()\n",
    "\n",
    "p = TreeNode(3)\n",
    "p.left = TreeNode(4)\n",
    "p.right = TreeNode(5)\n",
    "p.left.left = TreeNode(1)\n",
    "p.left.right = TreeNode(2)\n",
    "\n",
    "q = TreeNode(4)\n",
    "q.left = TreeNode(1)\n",
    "q.right = TreeNode(2)\n",
    "q.left.right = TreeNode(6)\n",
    "solution.issubtree(p,q)"
   ]
  }
 ],
 "metadata": {
  "kernelspec": {
   "display_name": "Python 3 (ipykernel)",
   "language": "python",
   "name": "python3"
  },
  "language_info": {
   "codemirror_mode": {
    "name": "ipython",
    "version": 3
   },
   "file_extension": ".py",
   "mimetype": "text/x-python",
   "name": "python",
   "nbconvert_exporter": "python",
   "pygments_lexer": "ipython3",
   "version": "3.9.12"
  }
 },
 "nbformat": 4,
 "nbformat_minor": 5
}
