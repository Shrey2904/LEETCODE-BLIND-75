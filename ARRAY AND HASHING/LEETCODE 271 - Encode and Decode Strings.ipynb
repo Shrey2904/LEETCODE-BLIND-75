{
 "cells": [
  {
   "cell_type": "code",
   "execution_count": 54,
   "id": "da678910",
   "metadata": {},
   "outputs": [],
   "source": [
    "def encode(strs):\n",
    "    \n",
    "    res = ''\n",
    "    for s in strs:\n",
    "        res += str(len(s)) + '#' + s\n",
    "    return res"
   ]
  },
  {
   "cell_type": "code",
   "execution_count": 55,
   "id": "34d4b706",
   "metadata": {},
   "outputs": [],
   "source": [
    "def decode(st):\n",
    "    \n",
    "    res, i = [], 0\n",
    "    \n",
    "    while i < len(st):\n",
    "        j = i\n",
    "        while st[j] != '#':\n",
    "            j += 1\n",
    "        l = int(st[i:j]) \n",
    "        res.append(st[j+1:j+1+l])\n",
    "        i = j+1+l\n",
    "    return res"
   ]
  },
  {
   "cell_type": "code",
   "execution_count": 58,
   "id": "7d9d9f85",
   "metadata": {},
   "outputs": [],
   "source": [
    "st = encode([\"leet1234!\",\"code\",\"love\",\"you\"])"
   ]
  },
  {
   "cell_type": "code",
   "execution_count": 59,
   "id": "772a22c0",
   "metadata": {},
   "outputs": [
    {
     "data": {
      "text/plain": [
       "['leet1234!', 'code', 'love', 'you']"
      ]
     },
     "execution_count": 59,
     "metadata": {},
     "output_type": "execute_result"
    }
   ],
   "source": [
    "decode(st)"
   ]
  }
 ],
 "metadata": {
  "kernelspec": {
   "display_name": "Python 3 (ipykernel)",
   "language": "python",
   "name": "python3"
  },
  "language_info": {
   "codemirror_mode": {
    "name": "ipython",
    "version": 3
   },
   "file_extension": ".py",
   "mimetype": "text/x-python",
   "name": "python",
   "nbconvert_exporter": "python",
   "pygments_lexer": "ipython3",
   "version": "3.9.12"
  }
 },
 "nbformat": 4,
 "nbformat_minor": 5
}
