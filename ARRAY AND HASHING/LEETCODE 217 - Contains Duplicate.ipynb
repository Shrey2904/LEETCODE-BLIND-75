{
 "cells": [
  {
   "cell_type": "markdown",
   "id": "5798b27c",
   "metadata": {},
   "source": [
    "### OPTION 1: Using a dictionary"
   ]
  },
  {
   "cell_type": "code",
   "execution_count": 17,
   "id": "9e15b196",
   "metadata": {},
   "outputs": [
    {
     "data": {
      "text/plain": [
       "True"
      ]
     },
     "execution_count": 17,
     "metadata": {},
     "output_type": "execute_result"
    }
   ],
   "source": [
    "nums = [1,2,3,1]\n",
    "\n",
    "def duplicate(nums):\n",
    "    d = {}\n",
    "    for i in nums:\n",
    "        d[i] = 1 + d.get(i, 0)\n",
    "\n",
    "    for i in d.values():\n",
    "        if i > 1:\n",
    "            return True\n",
    "    return False\n",
    "duplicate(nums)"
   ]
  },
  {
   "cell_type": "markdown",
   "id": "82588919",
   "metadata": {},
   "source": [
    "### OPTION 2: Using set"
   ]
  },
  {
   "cell_type": "code",
   "execution_count": 21,
   "id": "85b3e496",
   "metadata": {},
   "outputs": [
    {
     "data": {
      "text/plain": [
       "False"
      ]
     },
     "execution_count": 21,
     "metadata": {},
     "output_type": "execute_result"
    }
   ],
   "source": [
    "nums = [1,2,3,4,5,6]\n",
    "\n",
    "def duplicate(nums):\n",
    "    s = set(nums)\n",
    "    \n",
    "    if len(s) == len(nums):\n",
    "        return False\n",
    "    else:\n",
    "        return True\n",
    "duplicate(nums)"
   ]
  }
 ],
 "metadata": {
  "kernelspec": {
   "display_name": "Python 3 (ipykernel)",
   "language": "python",
   "name": "python3"
  },
  "language_info": {
   "codemirror_mode": {
    "name": "ipython",
    "version": 3
   },
   "file_extension": ".py",
   "mimetype": "text/x-python",
   "name": "python",
   "nbconvert_exporter": "python",
   "pygments_lexer": "ipython3",
   "version": "3.9.12"
  }
 },
 "nbformat": 4,
 "nbformat_minor": 5
}
