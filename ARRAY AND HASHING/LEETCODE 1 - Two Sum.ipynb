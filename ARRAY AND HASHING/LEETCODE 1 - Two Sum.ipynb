{
 "cells": [
  {
   "cell_type": "markdown",
   "id": "b7c12c11",
   "metadata": {},
   "source": [
    "### USING DICTIONARY "
   ]
  },
  {
   "cell_type": "code",
   "execution_count": 3,
   "id": "e9f773f4",
   "metadata": {},
   "outputs": [
    {
     "data": {
      "text/plain": [
       "(1, 3)"
      ]
     },
     "execution_count": 3,
     "metadata": {},
     "output_type": "execute_result"
    }
   ],
   "source": [
    "nums = [2,7,11,15]\n",
    "target = 22\n",
    "\n",
    "def twosum(nums, target):\n",
    "    d = {}\n",
    "    \n",
    "    for i, n in enumerate(nums):\n",
    "        diff = target - n\n",
    "        if diff in d:\n",
    "            return (d[diff], i)\n",
    "        d[n] = i\n",
    "twosum(nums, target)"
   ]
  }
 ],
 "metadata": {
  "kernelspec": {
   "display_name": "Python 3 (ipykernel)",
   "language": "python",
   "name": "python3"
  },
  "language_info": {
   "codemirror_mode": {
    "name": "ipython",
    "version": 3
   },
   "file_extension": ".py",
   "mimetype": "text/x-python",
   "name": "python",
   "nbconvert_exporter": "python",
   "pygments_lexer": "ipython3",
   "version": "3.9.12"
  }
 },
 "nbformat": 4,
 "nbformat_minor": 5
}
