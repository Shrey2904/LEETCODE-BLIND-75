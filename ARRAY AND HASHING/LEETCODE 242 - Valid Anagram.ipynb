{
 "cells": [
  {
   "cell_type": "markdown",
   "id": "f68c0d98",
   "metadata": {},
   "source": [
    "### OPTION 1: USING DICTIONARY"
   ]
  },
  {
   "cell_type": "code",
   "execution_count": 13,
   "id": "b17c2fdb",
   "metadata": {},
   "outputs": [
    {
     "data": {
      "text/plain": [
       "True"
      ]
     },
     "execution_count": 13,
     "metadata": {},
     "output_type": "execute_result"
    }
   ],
   "source": [
    "s = \"anagram\"\n",
    "t = \"nagaram\"\n",
    "\n",
    "def anagram(s,t):\n",
    "    d1 = {}\n",
    "    d2 = {}\n",
    "    \n",
    "    for i in s:\n",
    "        d1[i] = 1 + d1.get(i,0)\n",
    "        \n",
    "    for i in t:\n",
    "        d2[i] = 1 + d2.get(i,0)\n",
    "        \n",
    "    return d1 == d2\n",
    "\n",
    "anagram(s,t)"
   ]
  },
  {
   "cell_type": "markdown",
   "id": "fe8a991f",
   "metadata": {},
   "source": [
    "### OPTION 2: USING sorted() FUNCTION"
   ]
  },
  {
   "cell_type": "code",
   "execution_count": 18,
   "id": "c8264772",
   "metadata": {},
   "outputs": [
    {
     "data": {
      "text/plain": [
       "False"
      ]
     },
     "execution_count": 18,
     "metadata": {},
     "output_type": "execute_result"
    }
   ],
   "source": [
    "s = \"anagram\"\n",
    "t = \"nag\"\n",
    "\n",
    "def anagram(s,t):\n",
    "    return sorted(s) == sorted(t)\n",
    "\n",
    "anagram(s,t)"
   ]
  }
 ],
 "metadata": {
  "kernelspec": {
   "display_name": "Python 3 (ipykernel)",
   "language": "python",
   "name": "python3"
  },
  "language_info": {
   "codemirror_mode": {
    "name": "ipython",
    "version": 3
   },
   "file_extension": ".py",
   "mimetype": "text/x-python",
   "name": "python",
   "nbconvert_exporter": "python",
   "pygments_lexer": "ipython3",
   "version": "3.9.12"
  }
 },
 "nbformat": 4,
 "nbformat_minor": 5
}
