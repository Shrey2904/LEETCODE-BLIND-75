{
 "cells": [
  {
   "cell_type": "code",
   "execution_count": 3,
   "id": "f443e992",
   "metadata": {},
   "outputs": [
    {
     "data": {
      "text/plain": [
       "[3, 1]"
      ]
     },
     "execution_count": 3,
     "metadata": {},
     "output_type": "execute_result"
    }
   ],
   "source": [
    "def topK(nums, k):\n",
    "    \n",
    "    d = {}\n",
    "    \n",
    "    buckets = [[] for i in range(len(nums)+1)]\n",
    "    \n",
    "    for i in nums:\n",
    "        d[i] = 1 + d.get(i,0)\n",
    "        \n",
    "    for n, c in d.items():\n",
    "        buckets[c].append(n)\n",
    "        \n",
    "    res = []\n",
    "    \n",
    "    for i in range(len(buckets) -1, 0, -1):\n",
    "        for n in buckets[i]:\n",
    "            res.append(n)\n",
    "            if len(res) == k:\n",
    "                return res\n",
    "topK([1,1,1,2,2,3,3,3,3,3], 2)"
   ]
  }
 ],
 "metadata": {
  "kernelspec": {
   "display_name": "Python 3 (ipykernel)",
   "language": "python",
   "name": "python3"
  },
  "language_info": {
   "codemirror_mode": {
    "name": "ipython",
    "version": 3
   },
   "file_extension": ".py",
   "mimetype": "text/x-python",
   "name": "python",
   "nbconvert_exporter": "python",
   "pygments_lexer": "ipython3",
   "version": "3.9.12"
  }
 },
 "nbformat": 4,
 "nbformat_minor": 5
}
