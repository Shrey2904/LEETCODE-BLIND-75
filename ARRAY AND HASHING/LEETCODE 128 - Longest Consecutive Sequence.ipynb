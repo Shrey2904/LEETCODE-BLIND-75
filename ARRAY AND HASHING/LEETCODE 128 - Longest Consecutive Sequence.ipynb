{
 "cells": [
  {
   "cell_type": "code",
   "execution_count": 1,
   "id": "079b4c3d",
   "metadata": {},
   "outputs": [],
   "source": [
    "def longestConsecutive(nums):\n",
    "    \n",
    "    nums = set(nums)\n",
    "    res = 0\n",
    "    \n",
    "    for n in nums:\n",
    "        if n - 1 not in nums:\n",
    "            l = 0\n",
    "            while n+l in nums:\n",
    "                l += 1\n",
    "            res = max(res, l)\n",
    "    return res"
   ]
  },
  {
   "cell_type": "code",
   "execution_count": 2,
   "id": "e40797bf",
   "metadata": {},
   "outputs": [
    {
     "data": {
      "text/plain": [
       "4"
      ]
     },
     "execution_count": 2,
     "metadata": {},
     "output_type": "execute_result"
    }
   ],
   "source": [
    "longestConsecutive([100,4,200,1,3,2])"
   ]
  },
  {
   "cell_type": "code",
   "execution_count": 3,
   "id": "f2e650bb",
   "metadata": {},
   "outputs": [
    {
     "data": {
      "text/plain": [
       "9"
      ]
     },
     "execution_count": 3,
     "metadata": {},
     "output_type": "execute_result"
    }
   ],
   "source": [
    "longestConsecutive([0,3,7,2,5,8,4,6,0,1])"
   ]
  }
 ],
 "metadata": {
  "kernelspec": {
   "display_name": "Python 3 (ipykernel)",
   "language": "python",
   "name": "python3"
  },
  "language_info": {
   "codemirror_mode": {
    "name": "ipython",
    "version": 3
   },
   "file_extension": ".py",
   "mimetype": "text/x-python",
   "name": "python",
   "nbconvert_exporter": "python",
   "pygments_lexer": "ipython3",
   "version": "3.9.12"
  }
 },
 "nbformat": 4,
 "nbformat_minor": 5
}
