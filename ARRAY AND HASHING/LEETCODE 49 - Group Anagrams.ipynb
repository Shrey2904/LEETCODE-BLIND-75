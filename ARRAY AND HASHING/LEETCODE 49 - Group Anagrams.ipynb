{
 "cells": [
  {
   "cell_type": "code",
   "execution_count": 3,
   "id": "d40ad73f",
   "metadata": {},
   "outputs": [
    {
     "data": {
      "text/plain": [
       "dict_values([['eat', 'tea', 'ate'], ['tan', 'nat'], ['bat']])"
      ]
     },
     "execution_count": 3,
     "metadata": {},
     "output_type": "execute_result"
    }
   ],
   "source": [
    "from collections import defaultdict\n",
    "\n",
    "strs = [\"eat\",\"tea\",\"tan\",\"ate\",\"nat\",\"bat\"]\n",
    "\n",
    "def groupanagrams(strs):\n",
    "    res = defaultdict(list)\n",
    "    \n",
    "    for s in strs:\n",
    "        count = [0] * 26\n",
    "        \n",
    "        for c in s:\n",
    "            count[ord(c) - ord('a')] += 1\n",
    "        \n",
    "        res[tuple(count)].append(s)\n",
    "    return res.values()\n",
    "groupanagrams(strs)"
   ]
  },
  {
   "cell_type": "code",
   "execution_count": null,
   "id": "18b13421",
   "metadata": {},
   "outputs": [],
   "source": []
  }
 ],
 "metadata": {
  "kernelspec": {
   "display_name": "Python 3 (ipykernel)",
   "language": "python",
   "name": "python3"
  },
  "language_info": {
   "codemirror_mode": {
    "name": "ipython",
    "version": 3
   },
   "file_extension": ".py",
   "mimetype": "text/x-python",
   "name": "python",
   "nbconvert_exporter": "python",
   "pygments_lexer": "ipython3",
   "version": "3.9.12"
  }
 },
 "nbformat": 4,
 "nbformat_minor": 5
}
