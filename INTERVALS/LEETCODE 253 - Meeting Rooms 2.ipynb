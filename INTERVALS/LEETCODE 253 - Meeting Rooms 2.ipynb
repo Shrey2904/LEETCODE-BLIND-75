{
 "cells": [
  {
   "cell_type": "code",
   "execution_count": 42,
   "id": "fc73c049",
   "metadata": {},
   "outputs": [
    {
     "data": {
      "text/plain": [
       "[0, 5, 15]"
      ]
     },
     "execution_count": 42,
     "metadata": {},
     "output_type": "execute_result"
    }
   ],
   "source": [
    "intervals = [[0,30],[5,10],[15,20]]\n",
    "intervals.sort(key = lambda x : x[0])\n",
    "starttime = [i[0] for i in intervals]\n",
    "starttime"
   ]
  },
  {
   "cell_type": "code",
   "execution_count": 43,
   "id": "6e456eb0",
   "metadata": {},
   "outputs": [
    {
     "data": {
      "text/plain": [
       "[10, 20, 30]"
      ]
     },
     "execution_count": 43,
     "metadata": {},
     "output_type": "execute_result"
    }
   ],
   "source": [
    "intervals.sort(key = lambda x: x[1])\n",
    "endtime = [i[1] for i in intervals]\n",
    "endtime"
   ]
  },
  {
   "cell_type": "code",
   "execution_count": 44,
   "id": "3d276904",
   "metadata": {},
   "outputs": [],
   "source": [
    "def meetingrooms2(intervals):\n",
    "    \n",
    "    rooms = 0\n",
    "    intervals.sort(key = lambda x: x[0])\n",
    "    starttime = [i[0] for i in intervals]\n",
    "    \n",
    "    intervals.sort(key = lambda x: x[1])\n",
    "    endtime = [i[1] for i in intervals]\n",
    "    \n",
    "    while len(starttime) > 0:\n",
    "        \n",
    "        s = starttime.pop(0)\n",
    "        e = endtime[0]\n",
    "        \n",
    "        if s < e:\n",
    "            rooms += 1\n",
    "        else:\n",
    "            endtime.pop(0)\n",
    "    return rooms"
   ]
  },
  {
   "cell_type": "code",
   "execution_count": 46,
   "id": "3c383e1c",
   "metadata": {},
   "outputs": [
    {
     "data": {
      "text/plain": [
       "2"
      ]
     },
     "execution_count": 46,
     "metadata": {},
     "output_type": "execute_result"
    }
   ],
   "source": [
    "meetingrooms2([[0,30],[5,10],[15,20]])"
   ]
  },
  {
   "cell_type": "code",
   "execution_count": null,
   "id": "c8264c65",
   "metadata": {},
   "outputs": [],
   "source": [
    "meetingrooms2([[5,7], [2,6], [10,20], [0,1]])"
   ]
  }
 ],
 "metadata": {
  "kernelspec": {
   "display_name": "Python 3 (ipykernel)",
   "language": "python",
   "name": "python3"
  },
  "language_info": {
   "codemirror_mode": {
    "name": "ipython",
    "version": 3
   },
   "file_extension": ".py",
   "mimetype": "text/x-python",
   "name": "python",
   "nbconvert_exporter": "python",
   "pygments_lexer": "ipython3",
   "version": "3.9.12"
  }
 },
 "nbformat": 4,
 "nbformat_minor": 5
}
