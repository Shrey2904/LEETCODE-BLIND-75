{
 "cells": [
  {
   "cell_type": "code",
   "execution_count": 1,
   "id": "f8181648",
   "metadata": {},
   "outputs": [],
   "source": [
    "def mergeintervals(intervals):\n",
    "    \n",
    "    intervals.sort(key = lambda x: x[0])\n",
    "    \n",
    "    res = [intervals[0]]\n",
    "    for start, end in intervals[1:]:\n",
    "        previousend = res[-1][1]\n",
    "        \n",
    "        if start <= previousend:\n",
    "            res[-1][1] = max(end, previousend)\n",
    "        else:\n",
    "            res.append([start,end])\n",
    "    return res"
   ]
  },
  {
   "cell_type": "code",
   "execution_count": 4,
   "id": "4ebe3556",
   "metadata": {},
   "outputs": [
    {
     "data": {
      "text/plain": [
       "[[1, 6], [8, 10], [15, 18]]"
      ]
     },
     "execution_count": 4,
     "metadata": {},
     "output_type": "execute_result"
    }
   ],
   "source": [
    "mergeintervals([[1,3],[2,6],[8,10],[15,18]])"
   ]
  },
  {
   "cell_type": "code",
   "execution_count": 5,
   "id": "e2ddf3d6",
   "metadata": {},
   "outputs": [
    {
     "data": {
      "text/plain": [
       "[[1, 10], [15, 18]]"
      ]
     },
     "execution_count": 5,
     "metadata": {},
     "output_type": "execute_result"
    }
   ],
   "source": [
    "mergeintervals([[1,3],[2,6],[8,10],[15,18], [2,10]])"
   ]
  },
  {
   "cell_type": "code",
   "execution_count": 6,
   "id": "8101283a",
   "metadata": {},
   "outputs": [
    {
     "data": {
      "text/plain": [
       "[[0, 18]]"
      ]
     },
     "execution_count": 6,
     "metadata": {},
     "output_type": "execute_result"
    }
   ],
   "source": [
    "mergeintervals([[1,3],[2,6],[8,10],[15,18],[0,17]])"
   ]
  }
 ],
 "metadata": {
  "kernelspec": {
   "display_name": "Python 3 (ipykernel)",
   "language": "python",
   "name": "python3"
  },
  "language_info": {
   "codemirror_mode": {
    "name": "ipython",
    "version": 3
   },
   "file_extension": ".py",
   "mimetype": "text/x-python",
   "name": "python",
   "nbconvert_exporter": "python",
   "pygments_lexer": "ipython3",
   "version": "3.9.12"
  }
 },
 "nbformat": 4,
 "nbformat_minor": 5
}
