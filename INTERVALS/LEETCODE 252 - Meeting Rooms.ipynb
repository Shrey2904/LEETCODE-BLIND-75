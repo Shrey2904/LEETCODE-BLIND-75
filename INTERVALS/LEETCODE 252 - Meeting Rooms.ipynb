{
 "cells": [
  {
   "cell_type": "code",
   "execution_count": 12,
   "id": "26595202",
   "metadata": {},
   "outputs": [],
   "source": [
    "def meetingroom(intervals):\n",
    "    intervals.sort(key = lambda x:x[0])\n",
    "    \n",
    "    for i in range(1,len(intervals)):\n",
    "        e1 = intervals[i-1][1]\n",
    "        s2 = intervals[i][0]\n",
    "        \n",
    "        if e1 > s2:\n",
    "            return False\n",
    "    return True"
   ]
  },
  {
   "cell_type": "code",
   "execution_count": 13,
   "id": "fd3c2b60",
   "metadata": {},
   "outputs": [
    {
     "data": {
      "text/plain": [
       "False"
      ]
     },
     "execution_count": 13,
     "metadata": {},
     "output_type": "execute_result"
    }
   ],
   "source": [
    "meetingroom([[0,30],[5,10],[15,20]])"
   ]
  },
  {
   "cell_type": "code",
   "execution_count": 14,
   "id": "cfa38216",
   "metadata": {},
   "outputs": [
    {
     "data": {
      "text/plain": [
       "True"
      ]
     },
     "execution_count": 14,
     "metadata": {},
     "output_type": "execute_result"
    }
   ],
   "source": [
    "meetingroom([[5,8], [10,16]])"
   ]
  },
  {
   "cell_type": "code",
   "execution_count": 17,
   "id": "d2ce42e1",
   "metadata": {},
   "outputs": [
    {
     "data": {
      "text/plain": [
       "True"
      ]
     },
     "execution_count": 17,
     "metadata": {},
     "output_type": "execute_result"
    }
   ],
   "source": [
    "meetingroom([[1,8],[21,28],[28,30]])"
   ]
  }
 ],
 "metadata": {
  "kernelspec": {
   "display_name": "Python 3 (ipykernel)",
   "language": "python",
   "name": "python3"
  },
  "language_info": {
   "codemirror_mode": {
    "name": "ipython",
    "version": 3
   },
   "file_extension": ".py",
   "mimetype": "text/x-python",
   "name": "python",
   "nbconvert_exporter": "python",
   "pygments_lexer": "ipython3",
   "version": "3.9.12"
  }
 },
 "nbformat": 4,
 "nbformat_minor": 5
}
