{
 "cells": [
  {
   "cell_type": "code",
   "execution_count": 9,
   "id": "f34891e4",
   "metadata": {},
   "outputs": [],
   "source": [
    "def insertintervals(intervals, newinterval):\n",
    "    \n",
    "    res = []\n",
    "    \n",
    "    for i in range(len(intervals)):\n",
    "        \n",
    "        if newinterval[1] < intervals[i][0]:\n",
    "            res.append(newinterval)\n",
    "            return res + intervals[i:]\n",
    "        elif intervals[i][1] < newinterval[0]:\n",
    "            res.append(intervals[i])\n",
    "        else:\n",
    "            newinterval = [min(intervals[i][0], newinterval[0]), max(intervals[i][1], newinterval[1])]\n",
    "    res.append(newinterval)\n",
    "    return res"
   ]
  },
  {
   "cell_type": "code",
   "execution_count": 10,
   "id": "bf7e2de6",
   "metadata": {},
   "outputs": [
    {
     "data": {
      "text/plain": [
       "[[1, 5], [6, 9]]"
      ]
     },
     "execution_count": 10,
     "metadata": {},
     "output_type": "execute_result"
    }
   ],
   "source": [
    "insertintervals([[1,3],[6,9]], [2,5])"
   ]
  },
  {
   "cell_type": "code",
   "execution_count": 11,
   "id": "bca203b4",
   "metadata": {},
   "outputs": [
    {
     "data": {
      "text/plain": [
       "[[1, 5], [6, 7], [8, 10], [12, 16]]"
      ]
     },
     "execution_count": 11,
     "metadata": {},
     "output_type": "execute_result"
    }
   ],
   "source": [
    "insertintervals([[1,2],[3,5],[6,7],[8,10],[12,16]], [2,5])"
   ]
  }
 ],
 "metadata": {
  "kernelspec": {
   "display_name": "Python 3 (ipykernel)",
   "language": "python",
   "name": "python3"
  },
  "language_info": {
   "codemirror_mode": {
    "name": "ipython",
    "version": 3
   },
   "file_extension": ".py",
   "mimetype": "text/x-python",
   "name": "python",
   "nbconvert_exporter": "python",
   "pygments_lexer": "ipython3",
   "version": "3.9.12"
  }
 },
 "nbformat": 4,
 "nbformat_minor": 5
}
