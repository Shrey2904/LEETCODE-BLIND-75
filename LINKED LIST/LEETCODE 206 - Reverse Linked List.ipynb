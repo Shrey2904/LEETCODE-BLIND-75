{
 "cells": [
  {
   "cell_type": "code",
   "execution_count": 3,
   "id": "2a4d2a2c",
   "metadata": {},
   "outputs": [],
   "source": [
    "def reverseLinkedlist(head):\n",
    "    \n",
    "    prev, curr = None, head\n",
    "    \n",
    "    while curr:\n",
    "        \n",
    "        nxt = curr.next\n",
    "        curr.next = prev\n",
    "        prev = curr\n",
    "        curr = nxt\n",
    "    return prev"
   ]
  },
  {
   "cell_type": "markdown",
   "id": "4ad1d482",
   "metadata": {},
   "source": [
    "head = [1,2,3,4,5] : 1 -> 2 -> 3 -> 4 -> 5\n",
    "\n",
    "Output = [5,4,3,2,1] : 5 -> 4 -> 3 -> 2 -> 1"
   ]
  }
 ],
 "metadata": {
  "kernelspec": {
   "display_name": "Python 3 (ipykernel)",
   "language": "python",
   "name": "python3"
  },
  "language_info": {
   "codemirror_mode": {
    "name": "ipython",
    "version": 3
   },
   "file_extension": ".py",
   "mimetype": "text/x-python",
   "name": "python",
   "nbconvert_exporter": "python",
   "pygments_lexer": "ipython3",
   "version": "3.9.12"
  }
 },
 "nbformat": 4,
 "nbformat_minor": 5
}
