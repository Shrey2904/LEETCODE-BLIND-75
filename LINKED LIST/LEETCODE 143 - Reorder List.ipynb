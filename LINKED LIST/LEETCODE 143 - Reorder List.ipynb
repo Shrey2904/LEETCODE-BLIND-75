{
 "cells": [
  {
   "cell_type": "code",
   "execution_count": 31,
   "id": "6b7ac3aa",
   "metadata": {},
   "outputs": [
    {
     "name": "stdout",
     "output_type": "stream",
     "text": [
      "1\n",
      "4\n",
      "2\n",
      "3\n"
     ]
    }
   ],
   "source": [
    "class ListNode(object):\n",
    "    def __init__(self, val=0, next=None):\n",
    "        self.val = val\n",
    "        self.next = next\n",
    "        \n",
    "class Solution(object):\n",
    "    def reorderList(self, head):\n",
    "        \n",
    "        slow, fast = head, head.next\n",
    "        \n",
    "        while fast and fast.next:\n",
    "            slow = slow.next\n",
    "            fast = fast.next.next\n",
    "        \n",
    "        #FROM THE ABOVE LOOP WE GET TO KNOW WHERE THE FIRST LIST ENDS, HENCE THE NEXT REFERENCE POINTS TO THE START OF SECOND LIST\n",
    "        \n",
    "        second = slow.next\n",
    "        slow.next = None\n",
    "        prev = None\n",
    "        \n",
    "        while second:\n",
    "            nxt = second.next\n",
    "            second.next = prev\n",
    "            prev = second\n",
    "            second = nxt\n",
    "        \n",
    "        #FROM THE ABOVE LOOP WE REVERSE THE SECOND LIST\n",
    "        \n",
    "        first, second = head, prev\n",
    "        \n",
    "        while second:\n",
    "            tmp1, tmp2 = first.next, second.next\n",
    "            first.next = second\n",
    "            second.next = tmp1\n",
    "            first, second = tmp1, tmp2\n",
    "            \n",
    "        return head\n",
    "    \n",
    "solution = Solution()\n",
    "\n",
    "\n",
    "list1 = ListNode(1)\n",
    "list1.next = ListNode(2)\n",
    "list1.next.next = ListNode(3)\n",
    "list1.next.next.next = ListNode(4)\n",
    "\n",
    "result = solution.reorderList(list1)\n",
    "while result:\n",
    "    print(result.val)\n",
    "    result = result.next"
   ]
  }
 ],
 "metadata": {
  "kernelspec": {
   "display_name": "Python 3 (ipykernel)",
   "language": "python",
   "name": "python3"
  },
  "language_info": {
   "codemirror_mode": {
    "name": "ipython",
    "version": 3
   },
   "file_extension": ".py",
   "mimetype": "text/x-python",
   "name": "python",
   "nbconvert_exporter": "python",
   "pygments_lexer": "ipython3",
   "version": "3.9.12"
  }
 },
 "nbformat": 4,
 "nbformat_minor": 5
}
