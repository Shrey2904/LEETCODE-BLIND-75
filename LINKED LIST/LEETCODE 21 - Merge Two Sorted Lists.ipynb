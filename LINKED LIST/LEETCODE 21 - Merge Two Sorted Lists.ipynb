{
 "cells": [
  {
   "cell_type": "code",
   "execution_count": 2,
   "id": "6313b87b",
   "metadata": {},
   "outputs": [
    {
     "name": "stdout",
     "output_type": "stream",
     "text": [
      "1\n",
      "1\n",
      "2\n",
      "3\n",
      "4\n",
      "4\n"
     ]
    }
   ],
   "source": [
    "class ListNode(object):\n",
    "    def __init__(self, val=0, next=None):\n",
    "        self.val = val\n",
    "        self.next = next\n",
    "\n",
    "class Solution(object):\n",
    "    def mergeTwoLists(self, list1, list2):\n",
    "        dummy = ListNode(0)\n",
    "        tail = dummy\n",
    "        \n",
    "        while list1 and list2:\n",
    "            if list1.val <= list2.val:\n",
    "                tail.next = list1\n",
    "                list1 = list1.next\n",
    "            else:\n",
    "                tail.next = list2\n",
    "                list2 = list2.next\n",
    "            tail = tail.next\n",
    "        \n",
    "        if list1:\n",
    "            tail.next = list1\n",
    "        if list2:\n",
    "            tail.next = list2\n",
    "        \n",
    "        return dummy.next\n",
    "\n",
    "solution = Solution()\n",
    "\n",
    "list1 = ListNode(1)\n",
    "list1.next = ListNode(2)\n",
    "list1.next.next = ListNode(4)\n",
    "\n",
    "list2 = ListNode(1)\n",
    "list2.next = ListNode(3)\n",
    "list2.next.next = ListNode(4)\n",
    "\n",
    "result = solution.mergeTwoLists(list1, list2)\n",
    "\n",
    "current = result\n",
    "while current is not None:\n",
    "    print(current.val)\n",
    "    current = current.next"
   ]
  }
 ],
 "metadata": {
  "kernelspec": {
   "display_name": "Python 3 (ipykernel)",
   "language": "python",
   "name": "python3"
  },
  "language_info": {
   "codemirror_mode": {
    "name": "ipython",
    "version": 3
   },
   "file_extension": ".py",
   "mimetype": "text/x-python",
   "name": "python",
   "nbconvert_exporter": "python",
   "pygments_lexer": "ipython3",
   "version": "3.9.12"
  }
 },
 "nbformat": 4,
 "nbformat_minor": 5
}
