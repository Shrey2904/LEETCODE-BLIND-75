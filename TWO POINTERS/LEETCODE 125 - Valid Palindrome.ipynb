{
 "cells": [
  {
   "cell_type": "markdown",
   "id": "b7f7adfd",
   "metadata": {},
   "source": [
    "### USING 2 POINTERS "
   ]
  },
  {
   "cell_type": "code",
   "execution_count": 13,
   "id": "635c53dd",
   "metadata": {},
   "outputs": [],
   "source": [
    "def validpalindrome1(s):\n",
    "    \n",
    "    s = s.lower()\n",
    "    l = 0\n",
    "    r = len(s) - 1\n",
    "    \n",
    "    while l<r:\n",
    "        \n",
    "        if s[l].isalnum():\n",
    "            if s[r].isalnum():\n",
    "                if s[l] == s[r]:\n",
    "                    l += 1\n",
    "                    r -= 1\n",
    "                else:\n",
    "                    return False\n",
    "            else:\n",
    "                r -= 1\n",
    "        else:\n",
    "            l += 1\n",
    "    return True"
   ]
  },
  {
   "cell_type": "code",
   "execution_count": 14,
   "id": "afaf9163",
   "metadata": {},
   "outputs": [
    {
     "data": {
      "text/plain": [
       "True"
      ]
     },
     "execution_count": 14,
     "metadata": {},
     "output_type": "execute_result"
    }
   ],
   "source": [
    "validpalindrome1(\"A man, a plan, a canal: Panama\")"
   ]
  },
  {
   "cell_type": "code",
   "execution_count": 15,
   "id": "6d3051fc",
   "metadata": {},
   "outputs": [
    {
     "data": {
      "text/plain": [
       "False"
      ]
     },
     "execution_count": 15,
     "metadata": {},
     "output_type": "execute_result"
    }
   ],
   "source": [
    "validpalindrome1(\"race a car\")"
   ]
  },
  {
   "cell_type": "code",
   "execution_count": 16,
   "id": "bebdefae",
   "metadata": {},
   "outputs": [
    {
     "data": {
      "text/plain": [
       "True"
      ]
     },
     "execution_count": 16,
     "metadata": {},
     "output_type": "execute_result"
    }
   ],
   "source": [
    "validpalindrome1(\" \")"
   ]
  },
  {
   "cell_type": "markdown",
   "id": "f410d877",
   "metadata": {},
   "source": [
    "### USING REGEX FINDALL "
   ]
  },
  {
   "cell_type": "code",
   "execution_count": 17,
   "id": "6aad7fd0",
   "metadata": {},
   "outputs": [],
   "source": [
    "def validpalindrome2(s):\n",
    "    \n",
    "    import re\n",
    "    \n",
    "    res = ''.join(re.findall('[A-Za-z0-9]', s)).lower()\n",
    "    return res == res[-1::-1]"
   ]
  },
  {
   "cell_type": "code",
   "execution_count": 18,
   "id": "774c67e8",
   "metadata": {},
   "outputs": [
    {
     "data": {
      "text/plain": [
       "True"
      ]
     },
     "execution_count": 18,
     "metadata": {},
     "output_type": "execute_result"
    }
   ],
   "source": [
    "validpalindrome2(\"A man, a plan, a canal: Panama\")"
   ]
  },
  {
   "cell_type": "code",
   "execution_count": 19,
   "id": "0fb08335",
   "metadata": {},
   "outputs": [
    {
     "data": {
      "text/plain": [
       "False"
      ]
     },
     "execution_count": 19,
     "metadata": {},
     "output_type": "execute_result"
    }
   ],
   "source": [
    "validpalindrome2(\"race a car\")"
   ]
  },
  {
   "cell_type": "code",
   "execution_count": 12,
   "id": "248b20ce",
   "metadata": {},
   "outputs": [
    {
     "data": {
      "text/plain": [
       "True"
      ]
     },
     "execution_count": 12,
     "metadata": {},
     "output_type": "execute_result"
    }
   ],
   "source": [
    "validpalindrome1(\" \")"
   ]
  }
 ],
 "metadata": {
  "kernelspec": {
   "display_name": "Python 3 (ipykernel)",
   "language": "python",
   "name": "python3"
  },
  "language_info": {
   "codemirror_mode": {
    "name": "ipython",
    "version": 3
   },
   "file_extension": ".py",
   "mimetype": "text/x-python",
   "name": "python",
   "nbconvert_exporter": "python",
   "pygments_lexer": "ipython3",
   "version": "3.9.12"
  }
 },
 "nbformat": 4,
 "nbformat_minor": 5
}
