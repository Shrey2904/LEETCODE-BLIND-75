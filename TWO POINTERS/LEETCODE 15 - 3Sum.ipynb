{
 "cells": [
  {
   "cell_type": "code",
   "execution_count": 1,
   "id": "8d353e03",
   "metadata": {},
   "outputs": [],
   "source": [
    "def sum3(nums):\n",
    "    \n",
    "    nums.sort()\n",
    "    \n",
    "    res = []\n",
    "    \n",
    "    for i, a in enumerate(nums):\n",
    "        if i > 0 and a == nums[i-1]:\n",
    "            continue\n",
    "        l = i + 1\n",
    "        r = len(nums)-1\n",
    "        \n",
    "        while l<r:\n",
    "            sum3 = a + nums[l] + nums[r]\n",
    "            \n",
    "            if sum3 > 0:\n",
    "                r -= 1\n",
    "            elif sum3 < 0:\n",
    "                l += 1\n",
    "            else:\n",
    "                res.append([a, nums[l], nums[r]])\n",
    "                l += 1\n",
    "                while l < r and nums[l] == nums[l-1]:\n",
    "                    l += 1\n",
    "    return res"
   ]
  },
  {
   "cell_type": "code",
   "execution_count": 2,
   "id": "19f7f013",
   "metadata": {},
   "outputs": [
    {
     "data": {
      "text/plain": [
       "[[-1, -1, 2], [-1, 0, 1]]"
      ]
     },
     "execution_count": 2,
     "metadata": {},
     "output_type": "execute_result"
    }
   ],
   "source": [
    "sum3([-1,0,1,2,-1,-4])"
   ]
  },
  {
   "cell_type": "code",
   "execution_count": 3,
   "id": "b38d5a34",
   "metadata": {},
   "outputs": [
    {
     "data": {
      "text/plain": [
       "[]"
      ]
     },
     "execution_count": 3,
     "metadata": {},
     "output_type": "execute_result"
    }
   ],
   "source": [
    "sum3([0,1,1])"
   ]
  }
 ],
 "metadata": {
  "kernelspec": {
   "display_name": "Python 3 (ipykernel)",
   "language": "python",
   "name": "python3"
  },
  "language_info": {
   "codemirror_mode": {
    "name": "ipython",
    "version": 3
   },
   "file_extension": ".py",
   "mimetype": "text/x-python",
   "name": "python",
   "nbconvert_exporter": "python",
   "pygments_lexer": "ipython3",
   "version": "3.9.12"
  }
 },
 "nbformat": 4,
 "nbformat_minor": 5
}
